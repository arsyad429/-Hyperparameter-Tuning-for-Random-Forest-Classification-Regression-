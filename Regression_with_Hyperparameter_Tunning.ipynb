{
 "cells": [
  {
   "cell_type": "markdown",
   "id": "8b3e4961",
   "metadata": {},
   "source": [
    "# Load the Data"
   ]
  },
  {
   "cell_type": "code",
   "execution_count": 1,
   "id": "e57766f5",
   "metadata": {},
   "outputs": [],
   "source": [
    "from sklearn.datasets import fetch_california_housing\n",
    "from sklearn.model_selection import train_test_split\n",
    "from sklearn.preprocessing import StandardScaler\n",
    "\n",
    "# Install the dataset\n",
    "X, y = fetch_california_housing(return_X_y=True)\n",
    "\n",
    "X_train, X_test, y_train, y_test = train_test_split(X, y, test_size=0.3, random_state=42)\n",
    "\n"
   ]
  },
  {
   "cell_type": "markdown",
   "id": "641b7416",
   "metadata": {},
   "source": [
    "## Normalization with StandardScaler"
   ]
  },
  {
   "cell_type": "code",
   "execution_count": 3,
   "id": "37dbbb62",
   "metadata": {},
   "outputs": [],
   "source": [
    "scaler = StandardScaler()\n",
    "X_train = scaler.fit_transform(X_train)\n",
    "X_test = scaler.transform(X_test)"
   ]
  },
  {
   "cell_type": "code",
   "execution_count": 4,
   "id": "49ff1737",
   "metadata": {},
   "outputs": [
    {
     "name": "stdout",
     "output_type": "stream",
     "text": [
      "Shape of training data: (14448, 8)\n",
      "Shape of testing data: (6192, 8)\n"
     ]
    }
   ],
   "source": [
    "print(\"Shape of training data:\", X_train.shape)\n",
    "print(\"Shape of testing data:\", X_test.shape)"
   ]
  },
  {
   "cell_type": "markdown",
   "id": "d083cf9e",
   "metadata": {},
   "source": [
    "## Model Developing with Random Forest Regressor"
   ]
  },
  {
   "cell_type": "code",
   "execution_count": 5,
   "id": "dc1afd95",
   "metadata": {},
   "outputs": [],
   "source": [
    "from sklearn.ensemble import RandomForestRegressor\n",
    "from sklearn.metrics import mean_squared_error\n",
    "\n"
   ]
  },
  {
   "cell_type": "code",
   "execution_count": 6,
   "id": "1511c94e",
   "metadata": {},
   "outputs": [
    {
     "name": "stdout",
     "output_type": "stream",
     "text": [
      "Initial MSE on test set (without tuning): 0.26\n"
     ]
    }
   ],
   "source": [
    "rf = RandomForestRegressor(random_state=42)\n",
    "rf.fit(X_train, y_train)\n",
    "\n",
    "y_pred = rf.predict(X_test)\n",
    "initial_mse = mean_squared_error(y_test, y_pred)\n",
    "\n",
    "print(f\"Initial MSE on test set (without tuning): {initial_mse:.2f}\")\n"
   ]
  },
  {
   "cell_type": "code",
   "execution_count": null,
   "id": "d072f1c1",
   "metadata": {},
   "outputs": [],
   "source": []
  },
  {
   "cell_type": "markdown",
   "id": "1d8a1e83",
   "metadata": {},
   "source": [
    "# Hyperparemeter Tunning"
   ]
  },
  {
   "cell_type": "markdown",
   "id": "55af4c0a",
   "metadata": {},
   "source": [
    "## 1. grid search "
   ]
  },
  {
   "cell_type": "code",
   "execution_count": null,
   "id": "8d4d2181",
   "metadata": {},
   "outputs": [],
   "source": [
    "from sklearn.model_selection import GridSearchCV\n",
    "import time\n"
   ]
  },
  {
   "cell_type": "code",
   "execution_count": 20,
   "id": "dbc9e072",
   "metadata": {},
   "outputs": [
    {
     "name": "stdout",
     "output_type": "stream",
     "text": [
      "Fitting 3 folds for each of 162 candidates, totalling 486 fits\n",
      "Best parameters (Grid Search): {'bootstrap': True, 'max_depth': 30, 'min_samples_leaf': 1, 'min_samples_split': 2, 'n_estimators': 300}\n",
      "MSE after Grid Search: 0.25\n",
      "Execution time: 860.5205 seconds\n"
     ]
    }
   ],
   "source": [
    "start_time = time.time()\n",
    "\n",
    "# define the grid parameter for Grid Search\n",
    "param_grid = {\n",
    "    'n_estimators':[100, 200, 300],\n",
    "    'max_depth': [10, 20, 30],\n",
    "    'min_samples_split': [2, 5, 10],\n",
    "    'min_samples_leaf': [1, 2, 4],\n",
    "    'bootstrap': [True, False]\n",
    "}\n",
    "\n",
    "# GridSearchCV initialization\n",
    "grid_search = GridSearchCV(estimator=rf, param_grid=param_grid, cv=3, n_jobs=-1, verbose=2)\n",
    "grid_search.fit(X_train, y_train)\n",
    "\n",
    "print(f\"Best parameters (Grid Search): {grid_search.best_params_}\")\n",
    "best_rf_grid = grid_search.best_estimator_\n",
    "\n",
    "# Evaluate model's performance after Grid Search\n",
    "\n",
    "y_pred_grid = best_rf_grid.predict(X_test)\n",
    "grid_search_mse = mean_squared_error(y_test, y_pred_grid)\n",
    "print(f\"MSE after Grid Search: {grid_search_mse:.2f}\")\n",
    "\n",
    "\n",
    "end_time = time.time()  \n",
    "execution_time = end_time - start_time  \n",
    "\n",
    "print(f\"Execution time: {execution_time:.4f} seconds\")"
   ]
  },
  {
   "cell_type": "code",
   "execution_count": null,
   "id": "d098be1f",
   "metadata": {},
   "outputs": [],
   "source": []
  },
  {
   "cell_type": "markdown",
   "id": "e8a1c975",
   "metadata": {},
   "source": [
    "## 2. Random search "
   ]
  },
  {
   "cell_type": "code",
   "execution_count": 22,
   "id": "3d30ab2b",
   "metadata": {},
   "outputs": [],
   "source": [
    "from sklearn.model_selection import RandomizedSearchCV\n",
    "import numpy as np"
   ]
  },
  {
   "cell_type": "code",
   "execution_count": 24,
   "id": "260ae413",
   "metadata": {},
   "outputs": [
    {
     "name": "stdout",
     "output_type": "stream",
     "text": [
      "Fitting 3 folds for each of 5 candidates, totalling 15 fits\n",
      "Best parameters (Random Search): {'n_estimators': np.int64(300), 'min_samples_split': np.int64(6), 'min_samples_leaf': np.int64(2), 'max_depth': np.int64(30), 'bootstrap': True}\n",
      "MSE after Random Search: 0.25\n",
      "Execution time: 74.9553 seconds\n"
     ]
    }
   ],
   "source": [
    "start_time = time.time()\n",
    "param_dist = {\n",
    "    'n_estimators': np.arange(100, 500, 100),\n",
    "    'max_depth': [None] + list(np.arange(10, 50, 10)),\n",
    "    'min_samples_split': np.arange(2, 11, 2),\n",
    "    'min_samples_leaf': np.arange(1, 5),\n",
    "    'bootstrap': [True, False]\n",
    "}\n",
    "\n",
    "\n",
    "random_search = RandomizedSearchCV(estimator=rf, param_distributions=param_dist, n_iter=5, cv=3, n_jobs=-1, verbose=2, random_state=42)\n",
    "random_search.fit(X_train, y_train)\n",
    "\n",
    "\n",
    "print(f\"Best parameters (Random Search): {random_search.best_params_}\")\n",
    "best_rf_random = random_search.best_estimator_\n",
    "\n",
    "\n",
    "\n",
    "y_pred_random = best_rf_random.predict(X_test)\n",
    "random_search_mse = mean_squared_error(y_test, y_pred_random)\n",
    "print(f\"MSE after Random Search: {random_search_mse:.2f}\")\n",
    "\n",
    "\n",
    "end_time = time.time()  \n",
    "execution_time = end_time - start_time  \n",
    "\n",
    "print(f\"Execution time: {execution_time:.4f} seconds\")"
   ]
  },
  {
   "cell_type": "markdown",
   "id": "c38c4c36",
   "metadata": {},
   "source": [
    "## Optuna search"
   ]
  },
  {
   "cell_type": "code",
   "execution_count": 33,
   "id": "a8711856",
   "metadata": {},
   "outputs": [],
   "source": [
    "import optuna\n",
    "from optuna.integration import OptunaSearchCV\n",
    "from sklearn.model_selection import cross_val_score\n"
   ]
  },
  {
   "cell_type": "code",
   "execution_count": 34,
   "id": "2b42d357",
   "metadata": {},
   "outputs": [
    {
     "name": "stderr",
     "output_type": "stream",
     "text": [
      "[I 2025-07-24 15:26:55,681] A new study created in memory with name: no-name-c18a9b03-efa8-4bfe-bd3e-180e2e78ba7a\n",
      "[I 2025-07-24 15:27:07,093] Trial 0 finished with value: -0.5040954662553717 and parameters: {'n_estimators': 312, 'max_depth': 34, 'min_samples_split': 6, 'min_samples_leaf': 2, 'bootstrap': False}. Best is trial 0 with value: -0.5040954662553717.\n",
      "[I 2025-07-24 15:27:10,939] Trial 1 finished with value: -0.28140935176481807 and parameters: {'n_estimators': 132, 'max_depth': 20, 'min_samples_split': 10, 'min_samples_leaf': 2, 'bootstrap': True}. Best is trial 1 with value: -0.28140935176481807.\n",
      "[I 2025-07-24 15:27:14,701] Trial 2 finished with value: -0.28176098500979885 and parameters: {'n_estimators': 150, 'max_depth': 15, 'min_samples_split': 3, 'min_samples_leaf': 3, 'bootstrap': True}. Best is trial 1 with value: -0.28140935176481807.\n",
      "[I 2025-07-24 15:27:20,777] Trial 3 finished with value: -0.471311648635568 and parameters: {'n_estimators': 181, 'max_depth': 22, 'min_samples_split': 2, 'min_samples_leaf': 4, 'bootstrap': False}. Best is trial 1 with value: -0.28140935176481807.\n",
      "[I 2025-07-24 15:27:25,351] Trial 4 finished with value: -0.4951278737917841 and parameters: {'n_estimators': 110, 'max_depth': 26, 'min_samples_split': 7, 'min_samples_leaf': 2, 'bootstrap': False}. Best is trial 1 with value: -0.28140935176481807.\n",
      "[I 2025-07-24 15:27:38,785] Trial 5 finished with value: -0.27691679891353266 and parameters: {'n_estimators': 453, 'max_depth': 33, 'min_samples_split': 2, 'min_samples_leaf': 1, 'bootstrap': True}. Best is trial 5 with value: -0.27691679891353266.\n",
      "[I 2025-07-24 15:27:44,762] Trial 6 finished with value: -0.5089869346591782 and parameters: {'n_estimators': 163, 'max_depth': 38, 'min_samples_split': 6, 'min_samples_leaf': 1, 'bootstrap': False}. Best is trial 5 with value: -0.27691679891353266.\n",
      "[I 2025-07-24 15:27:49,034] Trial 7 finished with value: -0.4478973514657767 and parameters: {'n_estimators': 167, 'max_depth': 12, 'min_samples_split': 10, 'min_samples_leaf': 1, 'bootstrap': False}. Best is trial 5 with value: -0.27691679891353266.\n",
      "[I 2025-07-24 15:27:53,050] Trial 8 finished with value: -0.4606266025485617 and parameters: {'n_estimators': 135, 'max_depth': 15, 'min_samples_split': 10, 'min_samples_leaf': 4, 'bootstrap': False}. Best is trial 5 with value: -0.27691679891353266.\n",
      "[I 2025-07-24 15:28:00,709] Trial 9 finished with value: -0.5162212218319379 and parameters: {'n_estimators': 198, 'max_depth': 43, 'min_samples_split': 5, 'min_samples_leaf': 1, 'bootstrap': False}. Best is trial 5 with value: -0.27691679891353266.\n",
      "[I 2025-07-24 15:28:11,073] Trial 10 finished with value: -0.2792389648882459 and parameters: {'n_estimators': 499, 'max_depth': 50, 'min_samples_split': 4, 'min_samples_leaf': 3, 'bootstrap': True}. Best is trial 5 with value: -0.27691679891353266.\n",
      "[I 2025-07-24 15:28:21,488] Trial 11 finished with value: -0.2792822086706472 and parameters: {'n_estimators': 489, 'max_depth': 48, 'min_samples_split': 3, 'min_samples_leaf': 3, 'bootstrap': True}. Best is trial 5 with value: -0.27691679891353266.\n",
      "[I 2025-07-24 15:28:31,726] Trial 12 finished with value: -0.279230969926886 and parameters: {'n_estimators': 497, 'max_depth': 48, 'min_samples_split': 4, 'min_samples_leaf': 3, 'bootstrap': True}. Best is trial 5 with value: -0.27691679891353266.\n",
      "[I 2025-07-24 15:28:40,407] Trial 13 finished with value: -0.2793184261168314 and parameters: {'n_estimators': 413, 'max_depth': 32, 'min_samples_split': 2, 'min_samples_leaf': 3, 'bootstrap': True}. Best is trial 5 with value: -0.27691679891353266.\n",
      "[I 2025-07-24 15:28:49,877] Trial 14 finished with value: -0.27730172340954035 and parameters: {'n_estimators': 407, 'max_depth': 41, 'min_samples_split': 4, 'min_samples_leaf': 2, 'bootstrap': True}. Best is trial 5 with value: -0.27691679891353266.\n",
      "[I 2025-07-24 15:28:59,968] Trial 15 finished with value: -0.27732841180614126 and parameters: {'n_estimators': 388, 'max_depth': 39, 'min_samples_split': 4, 'min_samples_leaf': 1, 'bootstrap': True}. Best is trial 5 with value: -0.27691679891353266.\n",
      "[I 2025-07-24 15:29:08,878] Trial 16 finished with value: -0.2792842518608994 and parameters: {'n_estimators': 411, 'max_depth': 29, 'min_samples_split': 8, 'min_samples_leaf': 2, 'bootstrap': True}. Best is trial 5 with value: -0.27691679891353266.\n",
      "[I 2025-07-24 15:29:18,403] Trial 17 finished with value: -0.2771982802828381 and parameters: {'n_estimators': 346, 'max_depth': 42, 'min_samples_split': 2, 'min_samples_leaf': 1, 'bootstrap': True}. Best is trial 5 with value: -0.27691679891353266.\n",
      "[I 2025-07-24 15:29:27,842] Trial 18 finished with value: -0.2775574362975366 and parameters: {'n_estimators': 299, 'max_depth': 35, 'min_samples_split': 2, 'min_samples_leaf': 1, 'bootstrap': True}. Best is trial 5 with value: -0.27691679891353266.\n",
      "[I 2025-07-24 15:29:37,598] Trial 19 finished with value: -0.2774405468180807 and parameters: {'n_estimators': 345, 'max_depth': 44, 'min_samples_split': 3, 'min_samples_leaf': 1, 'bootstrap': True}. Best is trial 5 with value: -0.27691679891353266.\n",
      "[I 2025-07-24 15:29:43,491] Trial 20 finished with value: -0.2782656492156975 and parameters: {'n_estimators': 233, 'max_depth': 28, 'min_samples_split': 5, 'min_samples_leaf': 1, 'bootstrap': True}. Best is trial 5 with value: -0.27691679891353266.\n",
      "[I 2025-07-24 15:29:53,715] Trial 21 finished with value: -0.2771805575844906 and parameters: {'n_estimators': 449, 'max_depth': 41, 'min_samples_split': 2, 'min_samples_leaf': 2, 'bootstrap': True}. Best is trial 5 with value: -0.27691679891353266.\n",
      "[I 2025-07-24 15:30:04,362] Trial 22 finished with value: -0.27717841611169003 and parameters: {'n_estimators': 452, 'max_depth': 37, 'min_samples_split': 2, 'min_samples_leaf': 2, 'bootstrap': True}. Best is trial 5 with value: -0.27691679891353266.\n",
      "[I 2025-07-24 15:30:15,035] Trial 23 finished with value: -0.2771339223945535 and parameters: {'n_estimators': 455, 'max_depth': 36, 'min_samples_split': 3, 'min_samples_leaf': 2, 'bootstrap': True}. Best is trial 5 with value: -0.27691679891353266.\n",
      "[I 2025-07-24 15:30:26,372] Trial 24 finished with value: -0.27712616788179295 and parameters: {'n_estimators': 458, 'max_depth': 36, 'min_samples_split': 3, 'min_samples_leaf': 2, 'bootstrap': True}. Best is trial 5 with value: -0.27691679891353266.\n",
      "[I 2025-07-24 15:30:36,581] Trial 25 finished with value: -0.2771322405514936 and parameters: {'n_estimators': 455, 'max_depth': 32, 'min_samples_split': 3, 'min_samples_leaf': 2, 'bootstrap': True}. Best is trial 5 with value: -0.27691679891353266.\n",
      "[I 2025-07-24 15:30:45,901] Trial 26 finished with value: -0.27784264640237344 and parameters: {'n_estimators': 384, 'max_depth': 32, 'min_samples_split': 5, 'min_samples_leaf': 2, 'bootstrap': True}. Best is trial 5 with value: -0.27691679891353266.\n",
      "[I 2025-07-24 15:30:56,257] Trial 27 finished with value: -0.27718306999799275 and parameters: {'n_estimators': 462, 'max_depth': 24, 'min_samples_split': 3, 'min_samples_leaf': 2, 'bootstrap': True}. Best is trial 5 with value: -0.27691679891353266.\n",
      "[I 2025-07-24 15:31:01,668] Trial 28 finished with value: -0.2807279285343627 and parameters: {'n_estimators': 253, 'max_depth': 31, 'min_samples_split': 8, 'min_samples_leaf': 3, 'bootstrap': True}. Best is trial 5 with value: -0.27691679891353266.\n",
      "[I 2025-07-24 15:31:09,846] Trial 29 finished with value: -0.277331829272442 and parameters: {'n_estimators': 360, 'max_depth': 34, 'min_samples_split': 4, 'min_samples_leaf': 2, 'bootstrap': True}. Best is trial 5 with value: -0.27691679891353266.\n"
     ]
    },
    {
     "name": "stdout",
     "output_type": "stream",
     "text": [
      "Best trial:\n",
      "FrozenTrial(number=5, state=TrialState.COMPLETE, values=[-0.27691679891353266], datetime_start=datetime.datetime(2025, 7, 24, 15, 27, 25, 352804), datetime_complete=datetime.datetime(2025, 7, 24, 15, 27, 38, 784801), params={'n_estimators': 453, 'max_depth': 33, 'min_samples_split': 2, 'min_samples_leaf': 1, 'bootstrap': True}, user_attrs={}, system_attrs={}, intermediate_values={}, distributions={'n_estimators': IntDistribution(high=500, log=False, low=100, step=1), 'max_depth': IntDistribution(high=50, log=False, low=10, step=1), 'min_samples_split': IntDistribution(high=10, log=False, low=2, step=1), 'min_samples_leaf': IntDistribution(high=4, log=False, low=1, step=1), 'bootstrap': CategoricalDistribution(choices=(True, False))}, trial_id=5, value=None)\n",
      "MSE on test set: 0.25\n",
      "Execution time: 261.43 seconds\n"
     ]
    }
   ],
   "source": [
    "def objective(trial):\n",
    "    rf_params = {\n",
    "        'n_estimators': trial.suggest_int('n_estimators', 100, 500),\n",
    "        'max_depth': trial.suggest_int('max_depth', 10, 50),\n",
    "        'min_samples_split': trial.suggest_int('min_samples_split', 2, 10),\n",
    "        'min_samples_leaf': trial.suggest_int('min_samples_leaf', 1, 4),\n",
    "        'bootstrap': trial.suggest_categorical('bootstrap', [True, False])\n",
    "    }\n",
    "\n",
    "    rf = RandomForestRegressor(**rf_params, random_state=42, n_jobs=-1)\n",
    "    score = cross_val_score(rf, X_train, y_train, cv=3, scoring='neg_mean_squared_error', n_jobs=-1)\n",
    "    return score.mean()  # Semakin tinggi semakin bagus (karena negatif MSE)\n",
    "\n",
    "start_time = time.time()\n",
    "\n",
    "study = optuna.create_study(direction='maximize')\n",
    "study.optimize(objective, n_trials=30)\n",
    "\n",
    "print(\"Best trial:\")\n",
    "print(study.best_trial)\n",
    "\n",
    "# Train ulang dengan best parameter\n",
    "best_params = study.best_trial.params\n",
    "best_rf = RandomForestRegressor(**best_params, random_state=42, n_jobs=-1)\n",
    "best_rf.fit(X_train, y_train)\n",
    "\n",
    "y_pred = best_rf.predict(X_test)\n",
    "mse = mean_squared_error(y_test, y_pred)\n",
    "print(f\"MSE on test set: {mse:.2f}\")\n",
    "\n",
    "end_time = time.time()\n",
    "print(f\"Execution time: {end_time - start_time:.2f} seconds\")"
   ]
  },
  {
   "cell_type": "code",
   "execution_count": null,
   "id": "831552f5",
   "metadata": {},
   "outputs": [],
   "source": []
  }
 ],
 "metadata": {
  "kernelspec": {
   "display_name": "gpu-env",
   "language": "python",
   "name": "python3"
  },
  "language_info": {
   "codemirror_mode": {
    "name": "ipython",
    "version": 3
   },
   "file_extension": ".py",
   "mimetype": "text/x-python",
   "name": "python",
   "nbconvert_exporter": "python",
   "pygments_lexer": "ipython3",
   "version": "3.10.18"
  }
 },
 "nbformat": 4,
 "nbformat_minor": 5
}
